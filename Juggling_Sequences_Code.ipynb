{
  "nbformat": 4,
  "nbformat_minor": 0,
  "metadata": {
    "colab": {
      "provenance": [],
      "authorship_tag": "ABX9TyN941RcGUPcQO2wx3zP+LMH",
      "include_colab_link": true
    },
    "kernelspec": {
      "name": "python3",
      "display_name": "Python 3"
    },
    "language_info": {
      "name": "python"
    },
  "cells": [
    {
      "cell_type": "markdown",
      "metadata": {
        "id": "view-in-github",
        "colab_type": "text"
      },
      "source": [
        "<a href=\"https://colab.research.google.com/github/rajesh26k/Juggling-Sequence-Generator/blob/main/Juggling_Sequences_Code.ipynb\" target=\"_parent\"><img src=\"https://colab.research.google.com/assets/colab-badge.svg\" alt=\"Open In Colab\"/></a>"
      ]
    },
    {
      "cell_type": "code",
      "execution_count": 4,
      "metadata": {
        "colab": {
          "base_uri": "https://localhost:8080/"
        },
        "id": "c493iKmzOqNP",
        "outputId": "2bc82267-138f-4f29-ba42-884d99a29504"
      },
      "outputs": [
        {
          "output_type": "stream",
          "name": "stdout",
          "text": [
            "Overwriting Juggling.java\n"
          ]
        }
      ],
      "source": [
        "%%writefile Juggling.java\n",
        "import java.util.*;\n",
        "import java.util.ArrayList;\n",
        "\n",
        "//This code constructs juggling sequences based on parameters such as: min length, max length, and max height\n",
        "\n",
        "public class Juggling\n",
        "{\n",
        "  private static int minL;\n",
        "  private static int maxL;\n",
        "  private static int maxH;\n",
        "  private static int[][] arr;\n",
        "  private static int[][] mini;\n",
        "  public Juggling (int minLength, int maxLength, int maxHeight)\n",
        "  {\n",
        "    minL = minLength;\n",
        "    maxL = maxLength;\n",
        "    maxH = maxHeight;\n",
        "  }\n",
        "  public static int[][] jugglingArray(int L)\n",
        "  {\n",
        "    if (minL > maxL)\n",
        "    {\n",
        "      System.out.println(\"Minimum length cannot be greater than maximum length\");\n",
        "      System.exit(0);\n",
        "    }\n",
        "    arr = new int[L][L];\n",
        "    for (int i = 0; i < L; i++)\n",
        "    {\n",
        "      for (int j = 0; j < L; j++)\n",
        "      {\n",
        "        arr[i][j] = (j-i + L)%L;\n",
        "      }\n",
        "    }\n",
        "    return arr;\n",
        "  }\n",
        "  public static int[][] sizeDown(int[][] A, int c)\n",
        "  {\n",
        "    mini = new int[A.length-1][A.length-1];\n",
        "    for (int i = 0; i < A.length; i++)\n",
        "    {\n",
        "      for (int j = 0; j < A.length; j++)\n",
        "      {\n",
        "        if (i>0 && j<c) mini[i-1][j] = A[i][j];\n",
        "        if (i>0 && j>c) mini[i-1][j-1] = A[i][j];\n",
        "      }\n",
        "    }\n",
        "    return mini;\n",
        "  }\n",
        "\n",
        "  public int rookPlace(int[][] board, ArrayList <Integer> sequence1)\n",
        "  {\n",
        "    if (board.length == 1)\n",
        "    {\n",
        "        ArrayList<Integer> completed = new ArrayList<>(sequence1);\n",
        "        completed.add(board[0][0]);\n",
        "        if (board[0][0] < maxH)\n",
        "        {\n",
        "          int count = countExpansions(completed);\n",
        "          System.out.println(\"Mod sequence \"+completed+\"->\"+count+\" valid expansions\");\n",
        "          return count;\n",
        "        }\n",
        "        return 0;\n",
        "    }\n",
        "    int subtotal = 0;\n",
        "    for (int i = 0; i < board.length; i++)\n",
        "     {\n",
        "        ArrayList<Integer> sequence2 = new ArrayList<>(sequence1);\n",
        "        sequence2.add(board[0][i]);\n",
        "        int[][] smaller = sizeDown(board, i);\n",
        "        if (board[0][i] < maxH)\n",
        "          subtotal += rookPlace(smaller, sequence2);\n",
        "    }\n",
        "    return subtotal;\n",
        "  }\n",
        "\n",
        "  public void createSequences()\n",
        "  {\n",
        "    int total = 0;\n",
        "    for (int i = minL; i < maxL + 1; i++)\n",
        "    {\n",
        "      jugglingArray(i);\n",
        "      total += rookPlace(arr, new ArrayList<>());\n",
        "    }\n",
        "     System.out.println(\"Total number of valid juggling sequences (with max height < \" + maxH + \"): \" + total);\n",
        "  }\n",
        "\n",
        "  public int countExpansions(ArrayList<Integer> modSeq)\n",
        "  {\n",
        "    int n = 0;\n",
        "    int m = 1;\n",
        "    for (int i = 0; i < modSeq.size(); i++)\n",
        "    {\n",
        "      n = 0;\n",
        "      int x = modSeq.get(i);\n",
        "      while (x < maxH)\n",
        "      {\n",
        "        x = x + modSeq.size();\n",
        "        n++;\n",
        "      }\n",
        "      m = m * n;\n",
        "    }\n",
        "    return m;\n",
        "  }\n",
        "\n",
        "  public void printArray(int[][]A)\n",
        "  {\n",
        "    for (int i = 0; i < A.length; i++)\n",
        "    {\n",
        "      for (int j = 0; j < A.length; j++)\n",
        "      {\n",
        "        System.out.print(A[i][j]);\n",
        "        System.out.print(\" \");\n",
        "      }\n",
        "      System.out.println(\"\");\n",
        "    }\n",
        "  }\n",
        "\n",
        "  public void listExpansions(ArrayList<Integer> modS)\n",
        "  {\n",
        "    System.out.println(\"Expansions of mod sequence: \" + modS);\n",
        "    listHelper(modS, 0, new ArrayList<>());\n",
        "  }\n",
        "\n",
        "  private void listHelper(ArrayList<Integer> modS, int i, ArrayList<Integer> current)\n",
        "  {\n",
        "    int d = modS.size();\n",
        "    if (i == d) {\n",
        "        System.out.println(current);\n",
        "        return;\n",
        "    }\n",
        "\n",
        "    int target = modS.get(i);\n",
        "    for (int h = 0; h < maxH; h++)\n",
        "    {\n",
        "        if (h % d == target)\n",
        "        {\n",
        "            ArrayList<Integer> next = new ArrayList<>(current);\n",
        "            next.add(h);\n",
        "            listHelper(modS, i + 1, next);\n",
        "        }\n",
        "    }\n",
        "  }\n",
        "\n",
        "  public static void main(String args[])\n",
        "  {\n",
        "    /*Juggling c = new Juggling(3, 4, 7);\n",
        "    c.jugglingArray(minL);\n",
        "    c.printArray(arr);\n",
        "    System.out.println(\"\");\n",
        "    c.createSequences();\n",
        "    c.listExpansions(new ArrayList<>(Arrays.asList(2,0,1,1)));*/\n",
        "\n",
        "    if (args.length >= 3 && !args[0].equals(\"expand\"))\n",
        "    {\n",
        "    int minL = Integer.parseInt(args[0]);\n",
        "    int maxL = Integer.parseInt(args[1]);\n",
        "    int maxH = Integer.parseInt(args[2]);\n",
        "\n",
        "    Juggling c = new Juggling(minL, maxL, maxH);\n",
        "    c.jugglingArray(minL);\n",
        "    System.out.println(\"\");\n",
        "    c.createSequences();\n",
        "    }\n",
        "    else if (args.length >= 2 && args[0].equals(\"expand\"))\n",
        "    {\n",
        "    ArrayList<Integer> modSeq = new ArrayList<>();\n",
        "       for (int i = 1; i < args.length - 1; i++)\n",
        "        {\n",
        "        modSeq.add(Integer.parseInt(args[i]));\n",
        "        }\n",
        "    int maxH = Integer.parseInt(args[args.length - 1]);\n",
        "    Juggling c = new Juggling(modSeq.size(), modSeq.size(), maxH);\n",
        "    c.listExpansions(modSeq);\n",
        "    }\n",
        "    else\n",
        "    {\n",
        "    System.out.println(\"Invalid arguments.\");\n",
        "    }\n",
        "  }\n",
        "}"
      ]
    },
    {
      "cell_type": "code",
      "source": [
        "%%script bash\n",
        "javac Juggling.java\n",
        "java Juggling"
      ],
      "metadata": {
        "colab": {
          "base_uri": "https://localhost:8080/"
        },
        "id": "o_xFrMyWPG-W",
        "outputId": "1478c539-76a6-46f0-fa77-57b5e8b47791"
      },
      "execution_count": 5,
      "outputs": [
        {
          "output_type": "stream",
          "name": "stdout",
          "text": [
            "Invalid arguments.\n"
          ]
        }
      ]
    },
    {
      "cell_type": "code",
      "source": [
        "import ipywidgets as widgets\n",
        "from IPython.display import display, clear_output\n",
        "\n",
        "minL_input = widgets.IntText(value=3, description='minL:')\n",
        "maxL_input = widgets.IntText(value=3, description='maxL:')\n",
        "maxH_input = widgets.IntText(value=7, description='maxH:')\n",
        "modSeq_input = widgets.Text(value='1,2,0', description='modSeq:')\n",
        "\n",
        "run_button = widgets.Button(description=\"Run createSequences()\")\n",
        "expand_button = widgets.Button(description=\"Run listExpansions()\")\n",
        "\n",
        "output = widgets.Output()\n",
        "\n",
        "def run_create_sequences(_):\n",
        "    clear_output()\n",
        "    display(minL_input, maxL_input, maxH_input, modSeq_input, run_button, expand_button, output)\n",
        "\n",
        "    minL = minL_input.value\n",
        "    maxL = maxL_input.value\n",
        "    maxH = maxH_input.value\n",
        "\n",
        "    !javac Juggling.java\n",
        "    !java Juggling {minL} {maxL} {maxH}\n",
        "\n",
        "# Function to run listExpansions with a hardcoded mod sequence (editable later)\n",
        "def run_list_expansions(_):\n",
        "    clear_output()\n",
        "    display(minL_input, maxL_input, maxH_input, modSeq_input, run_button, expand_button, output)\n",
        "\n",
        "    modSeq = modSeq_input.value.strip()\n",
        "    modSeqArgs = \" \".join(modSeq.split(\",\"))\n",
        "\n",
        "    !javac Juggling.java\n",
        "    !java Juggling expand {modSeqArgs} {maxH_input.value}\n",
        "\n",
        "# Hook up buttons\n",
        "run_button.on_click(run_create_sequences)\n",
        "expand_button.on_click(run_list_expansions)\n",
        "\n",
        "display(minL_input, maxL_input, maxH_input, modSeq_input, run_button, expand_button, output)\n"
      ],
      "metadata": {
        "colab": {
          "base_uri": "https://localhost:8080/",
          "height": 654,
          "referenced_widgets": [
            "e9a4346f4bf14aff829afa34aa2278cc",
            "d70a22db4fdd4fcdaa2fa0c4f00c5dd5",
            "6037efd58215469ba14175af8abab1d2",
            "a5ede6e9cd7b4f0caf7d484857d2cba0",
            "a21bac2e0a4441da998f7a807090b4ad",
            "a41f7e0037124de08a900152f8a2fefc",
            "f60f9e501a3a4a22ac612662114e6c1e",
            "d9331583c163448aa89167140a29fc1c",
            "abaa3d5731d240f698e0a8caebfe6c15",
            "254dbb7d59024e44b1dc8fa95d20b28c",
            "71d5cf04792649e2991abe9a06a2662d",
            "21a53176b777489b93c1c49644a19e3f",
            "721ad000bc074d53ba3579642a8afddf",
            "420473754ded4769aa864557fac6034a",
            "576f08be753143d0ae8fcb63aec1d137",
            "2d8c9f45e1344cbeb762af833d3d732a",
            "f9e4508518ea458fbf0a5754af6b5ce5",
            "bfcc5d86ce2d4c17b5dbd1bef97c63a0",
            "f2ef2174da5a494eb339d7fd29099061",
            "bc070b8514aa4b6797a450f3e8ced510"
          ]
        },
        "id": "bNBek7NI1Zpe",
        "outputId": "38ef8f89-0be7-4395-e36e-bd9c99b2232c"
      },
      "execution_count": 6,
      "outputs": [
        {
          "output_type": "display_data",
          "data": {
            "text/plain": [
              "IntText(value=4, description='minL:')"
            ],
            "application/vnd.jupyter.widget-view+json": {
              "version_major": 2,
              "version_minor": 0,
              "model_id": "e9a4346f4bf14aff829afa34aa2278cc"
            }
          },
          "metadata": {}
        },
        {
          "output_type": "display_data",
          "data": {
            "text/plain": [
              "IntText(value=4, description='maxL:')"
            ],
            "application/vnd.jupyter.widget-view+json": {
              "version_major": 2,
              "version_minor": 0,
              "model_id": "a5ede6e9cd7b4f0caf7d484857d2cba0"
            }
          },
          "metadata": {}
        },
        {
          "output_type": "display_data",
          "data": {
            "text/plain": [
              "IntText(value=10, description='maxH:')"
            ],
            "application/vnd.jupyter.widget-view+json": {
              "version_major": 2,
              "version_minor": 0,
              "model_id": "f60f9e501a3a4a22ac612662114e6c1e"
            }
          },
          "metadata": {}
        },
        {
          "output_type": "display_data",
          "data": {
            "text/plain": [
              "Text(value='2,3,3,0', description='modSeq:')"
            ],
            "application/vnd.jupyter.widget-view+json": {
              "version_major": 2,
              "version_minor": 0,
              "model_id": "254dbb7d59024e44b1dc8fa95d20b28c"
            }
          },
          "metadata": {}
        },
        {
          "output_type": "display_data",
          "data": {
            "text/plain": [
              "Button(description='Run createSequences()', style=ButtonStyle())"
            ],
            "application/vnd.jupyter.widget-view+json": {
              "version_major": 2,
              "version_minor": 0,
              "model_id": "721ad000bc074d53ba3579642a8afddf"
            }
          },
          "metadata": {}
        },
        {
          "output_type": "display_data",
          "data": {
            "text/plain": [
              "Button(description='Run listExpansions()', style=ButtonStyle())"
            ],
            "application/vnd.jupyter.widget-view+json": {
              "version_major": 2,
              "version_minor": 0,
              "model_id": "2d8c9f45e1344cbeb762af833d3d732a"
            }
          },
          "metadata": {}
        },
        {
          "output_type": "display_data",
          "data": {
            "text/plain": [
              "Output()"
            ],
            "application/vnd.jupyter.widget-view+json": {
              "version_major": 2,
              "version_minor": 0,
              "model_id": "f2ef2174da5a494eb339d7fd29099061"
            }
          },
          "metadata": {}
        },
        {
          "output_type": "stream",
          "name": "stdout",
          "text": [
            "\n",
            "Mod sequence [0, 0, 0, 0]->81 valid expansions\n",
            "Mod sequence [0, 0, 1, 3]->54 valid expansions\n",
            "Mod sequence [0, 1, 3, 0]->54 valid expansions\n",
            "Mod sequence [0, 1, 1, 2]->54 valid expansions\n",
            "Mod sequence [0, 2, 3, 3]->24 valid expansions\n",
            "Mod sequence [0, 2, 0, 2]->36 valid expansions\n",
            "Mod sequence [1, 3, 0, 0]->54 valid expansions\n",
            "Mod sequence [1, 3, 1, 3]->36 valid expansions\n",
            "Mod sequence [1, 1, 2, 0]->54 valid expansions\n",
            "Mod sequence [1, 1, 1, 1]->81 valid expansions\n",
            "Mod sequence [1, 2, 2, 3]->24 valid expansions\n",
            "Mod sequence [1, 2, 0, 1]->54 valid expansions\n",
            "Mod sequence [2, 3, 3, 0]->24 valid expansions\n",
            "Mod sequence [2, 3, 1, 2]->24 valid expansions\n",
            "Mod sequence [2, 0, 2, 0]->36 valid expansions\n",
            "Mod sequence [2, 0, 1, 1]->54 valid expansions\n",
            "Mod sequence [2, 2, 2, 2]->16 valid expansions\n",
            "Mod sequence [2, 2, 3, 1]->24 valid expansions\n",
            "Mod sequence [3, 3, 3, 3]->16 valid expansions\n",
            "Mod sequence [3, 3, 0, 2]->24 valid expansions\n",
            "Mod sequence [3, 0, 2, 3]->24 valid expansions\n",
            "Mod sequence [3, 0, 0, 1]->54 valid expansions\n",
            "Mod sequence [3, 1, 2, 2]->24 valid expansions\n",
            "Mod sequence [3, 1, 3, 1]->36 valid expansions\n",
            "Total number of valid juggling sequences (with max height < 10): 962\n"
          ]
        }
      ]
    }
  ]
}
