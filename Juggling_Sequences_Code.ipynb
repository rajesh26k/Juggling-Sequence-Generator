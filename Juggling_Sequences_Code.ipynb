{
  "nbformat": 4,
  "nbformat_minor": 0,
  "metadata": {
    "colab": {
      "provenance": [],
      "authorship_tag": "ABX9TyN941RcGUPcQO2wx3zP+LMH"
    },
    "kernelspec": {
      "name": "python3",
      "display_name": "Python 3"
    },
    "language_info": {
      "name": "python"
    },
  "cells": [
    {
      "cell_type": "code",
      "execution_count": 4,
      "metadata": {
        "colab": {
          "base_uri": "https://localhost:8080/"
        },
        "id": "c493iKmzOqNP",
        "outputId": "f7490538-1437-46eb-deee-e41c37fc2e56"
      },
      "outputs": [
        {
          "output_type": "stream",
          "name": "stdout",
          "text": [
            "Overwriting Juggling.java\n"
          ]
        }
      ],
      "source": [
        "%%writefile Juggling.java\n",
        "import java.util.*;\n",
        "import java.util.ArrayList;\n",
        "\n",
        "//This code constructs juggling sequences based on parameters such as: min length, max length, and max height\n",
        "\n",
        "public class Juggling\n",
        "{\n",
        "  private static int minL;\n",
        "  private static int maxL;\n",
        "  private static int maxH;\n",
        "  private static int[][] arr;\n",
        "  private static int[][] mini;\n",
        "  public Juggling (int minLength, int maxLength, int maxHeight)\n",
        "  {\n",
        "    minL = minLength;\n",
        "    maxL = maxLength;\n",
        "    maxH = maxHeight;\n",
        "  }\n",
        "  public static int[][] jugglingArray(int L)\n",
        "  {\n",
        "    if (minL > maxL)\n",
        "    {\n",
        "      System.out.println(\"Minimum length cannot be greater than maximum length\");\n",
        "      System.exit(0);\n",
        "    }\n",
        "    arr = new int[L][L];\n",
        "    for (int i = 0; i < L; i++)\n",
        "    {\n",
        "      for (int j = 0; j < L; j++)\n",
        "      {\n",
        "        arr[i][j] = (j-i + L)%L;\n",
        "      }\n",
        "    }\n",
        "    return arr;\n",
        "  }\n",
        "  public static int[][] sizeDown(int[][] A, int c)\n",
        "  {\n",
        "    mini = new int[A.length-1][A.length-1];\n",
        "    for (int i = 0; i < A.length; i++)\n",
        "    {\n",
        "      for (int j = 0; j < A.length; j++)\n",
        "      {\n",
        "        if (i>0 && j<c) mini[i-1][j] = A[i][j];\n",
        "        if (i>0 && j>c) mini[i-1][j-1] = A[i][j];\n",
        "      }\n",
        "    }\n",
        "    return mini;\n",
        "  }\n",
        "\n",
        "  public int rookPlace(int[][] board, ArrayList <Integer> sequence1)\n",
        "  {\n",
        "    if (board.length == 1)\n",
        "    {\n",
        "        ArrayList<Integer> completed = new ArrayList<>(sequence1);\n",
        "        completed.add(board[0][0]);\n",
        "        if (board[0][0] < maxH)\n",
        "        {\n",
        "          int count = countExpansions(completed);\n",
        "          System.out.println(\"Mod sequence \"+completed+\"->\"+count+\" valid expansions\");\n",
        "          return count;\n",
        "        }\n",
        "        return 0;\n",
        "    }\n",
        "    int subtotal = 0;\n",
        "    for (int i = 0; i < board.length; i++)\n",
        "     {\n",
        "        ArrayList<Integer> sequence2 = new ArrayList<>(sequence1);\n",
        "        sequence2.add(board[0][i]);\n",
        "        int[][] smaller = sizeDown(board, i);\n",
        "        if (board[0][i] < maxH)\n",
        "          subtotal += rookPlace(smaller, sequence2);\n",
        "    }\n",
        "    return subtotal;\n",
        "  }\n",
        "\n",
        "  public void createSequences()\n",
        "  {\n",
        "    int total = 0;\n",
        "    for (int i = minL; i < maxL + 1; i++)\n",
        "    {\n",
        "      jugglingArray(i);\n",
        "      total += rookPlace(arr, new ArrayList<>());\n",
        "    }\n",
        "     System.out.println(\"Total number of valid juggling sequences (with max height < \" + maxH + \"): \" + total);\n",
        "  }\n",
        "\n",
        "  public int countExpansions(ArrayList<Integer> modSeq)\n",
        "  {\n",
        "    int n = 0;\n",
        "    int m = 1;\n",
        "    for (int i = 0; i < modSeq.size(); i++)\n",
        "    {\n",
        "      n = 0;\n",
        "      int x = modSeq.get(i);\n",
        "      while (x < maxH)\n",
        "      {\n",
        "        x = x + modSeq.size();\n",
        "        n++;\n",
        "      }\n",
        "      m = m * n;\n",
        "    }\n",
        "    return m;\n",
        "  }\n",
        "\n",
        "  public void printArray(int[][]A)\n",
        "  {\n",
        "    for (int i = 0; i < A.length; i++)\n",
        "    {\n",
        "      for (int j = 0; j < A.length; j++)\n",
        "      {\n",
        "        System.out.print(A[i][j]);\n",
        "        System.out.print(\" \");\n",
        "      }\n",
        "      System.out.println(\"\");\n",
        "    }\n",
        "  }\n",
        "\n",
        "  public void listExpansions(ArrayList<Integer> modS)\n",
        "  {\n",
        "    System.out.println(\"Expansions of mod sequence: \" + modS);\n",
        "    listHelper(modS, 0, new ArrayList<>());\n",
        "  }\n",
        "\n",
        "  private void listHelper(ArrayList<Integer> modS, int i, ArrayList<Integer> current)\n",
        "  {\n",
        "    int d = modS.size();\n",
        "    if (i == d) {\n",
        "        System.out.println(current);\n",
        "        return;\n",
        "    }\n",
        "\n",
        "    int target = modS.get(i);\n",
        "    for (int h = 0; h < maxH; h++)\n",
        "    {\n",
        "        if (h % d == target)\n",
        "        {\n",
        "            ArrayList<Integer> next = new ArrayList<>(current);\n",
        "            next.add(h);\n",
        "            listHelper(modS, i + 1, next);\n",
        "        }\n",
        "    }\n",
        "  }\n",
        "\n",
        "  public static void main(String args[])\n",
        "  {\n",
        "    /*Juggling c = new Juggling(3, 4, 7);\n",
        "    c.jugglingArray(minL);\n",
        "    c.printArray(arr);\n",
        "    System.out.println(\"\");\n",
        "    c.createSequences();\n",
        "    c.listExpansions(new ArrayList<>(Arrays.asList(2,0,1,1)));*/\n",
        "\n",
        "    if (args.length >= 3 && !args[0].equals(\"expand\"))\n",
        "    {\n",
        "    int minL = Integer.parseInt(args[0]);\n",
        "    int maxL = Integer.parseInt(args[1]);\n",
        "    int maxH = Integer.parseInt(args[2]);\n",
        "\n",
        "    Juggling c = new Juggling(minL, maxL, maxH);\n",
        "    c.jugglingArray(minL);\n",
        "    System.out.println(\"\");\n",
        "    c.createSequences();\n",
        "    }\n",
        "    else if (args.length >= 2 && args[0].equals(\"expand\"))\n",
        "    {\n",
        "    ArrayList<Integer> modSeq = new ArrayList<>();\n",
        "       for (int i = 1; i < args.length - 1; i++)\n",
        "        {\n",
        "        modSeq.add(Integer.parseInt(args[i]));\n",
        "        }\n",
        "    int maxH = Integer.parseInt(args[args.length - 1]);\n",
        "    Juggling c = new Juggling(modSeq.size(), modSeq.size(), maxH);\n",
        "    c.listExpansions(modSeq);\n",
        "    }\n",
        "    else\n",
        "    {\n",
        "    System.out.println(\"Invalid arguments.\");\n",
        "    }\n",
        "  }\n",
        "}"
      ]
    },
    {
      "cell_type": "code",
      "source": [
        "%%script bash\n",
        "javac Juggling.java\n",
        "java Juggling"
      ],
      "metadata": {
        "colab": {
          "base_uri": "https://localhost:8080/"
        },
        "id": "o_xFrMyWPG-W",
        "outputId": "81b9207d-b708-4c7e-804c-690d54fcf5c8"
      },
      "execution_count": 5,
      "outputs": [
        {
          "output_type": "stream",
          "name": "stdout",
          "text": [
            "Invalid arguments.\n"
          ]
        }
      ]
    },
    {
      "cell_type": "code",
      "source": [
        "import ipywidgets as widgets\n",
        "from IPython.display import display, clear_output\n",
        "\n",
        "minL_input = widgets.IntText(value=3, description='minL:')\n",
        "maxL_input = widgets.IntText(value=3, description='maxL:')\n",
        "maxH_input = widgets.IntText(value=7, description='maxH:')\n",
        "modSeq_input = widgets.Text(value='1,2,0', description='modSeq:')\n",
        "\n",
        "run_button = widgets.Button(description=\"Run createSequences()\")\n",
        "expand_button = widgets.Button(description=\"Run listExpansions()\")\n",
        "\n",
        "output = widgets.Output()\n",
        "\n",
        "def run_create_sequences(_):\n",
        "    clear_output()\n",
        "    display(minL_input, maxL_input, maxH_input, modSeq_input, run_button, expand_button, output)\n",
        "\n",
        "    minL = minL_input.value\n",
        "    maxL = maxL_input.value\n",
        "    maxH = maxH_input.value\n",
        "\n",
        "    !javac Juggling.java\n",
        "    !java Juggling {minL} {maxL} {maxH}\n",
        "\n",
        "# Function to run listExpansions with a hardcoded mod sequence (editable later)\n",
        "def run_list_expansions(_):\n",
        "    clear_output()\n",
        "    display(minL_input, maxL_input, maxH_input, modSeq_input, run_button, expand_button, output)\n",
        "\n",
        "    modSeq = modSeq_input.value.strip()\n",
        "    modSeqArgs = \" \".join(modSeq.split(\",\"))\n",
        "\n",
        "    !javac Juggling.java\n",
        "    !java Juggling expand {modSeqArgs} {maxH_input.value}\n",
        "\n",
        "# Hook up buttons\n",
        "run_button.on_click(run_create_sequences)\n",
        "expand_button.on_click(run_list_expansions)\n",
        "\n",
        "display(minL_input, maxL_input, maxH_input, modSeq_input, run_button, expand_button, output)\n"
      ],
      "metadata": {
        "colab": {
          "base_uri": "https://localhost:8080/",
          "height": 203,
          "referenced_widgets": [
            "25a8018c3f2f4e83843efd5ca90d0d29",
            "0c96f00909c347fa90a23dda6e3054fc",
            "a5b7c152eb824c1381692bd03ef25680",
            "1fedf879388b4360ae934169e9851f37",
            "ad0163df2ab145519c65c48fc87cb10c",
            "c220689cbf6d4648ad2f62e218dc0c80",
            "b421629f4b874c9b8e36cb66d67e2bfe",
            "05b79ca949d4478589eda4ed94602c34",
            "7768f3d355a04f51ae2bf31fc45a2705",
            "cab4d5fbed7c4de2a890750d257ef434",
            "b0b5d567279645c39b353387950a6ce7",
            "46a33287191e46efb74a414ca44213e2",
            "776278c7ae42445a94b85a6c76507341",
            "66587b552b26427dbc2fda4f9b59ac50",
            "c4c5e733788745aabd1265df08bd124b",
            "57bea1e6407445df9bcb1aa2c68918fa",
            "3c55a870f05646fb9e0d7576baa821fe",
            "52a744fb4d874c9bbd2579480a7dba88",
            "5218cbb60c794508b165fb7661068df9",
            "5e230ea5c4c347ab881ee84ec504fecb"
          ]
        },
        "id": "bNBek7NI1Zpe",
        "outputId": "59134abd-24d0-460e-a4fa-c87476cad481"
      },
      "execution_count": 6,
      "outputs": [
        {
          "output_type": "display_data",
          "data": {
            "text/plain": [
              "IntText(value=3, description='minL:')"
            ],
            "application/vnd.jupyter.widget-view+json": {
              "version_major": 2,
              "version_minor": 0,
              "model_id": "25a8018c3f2f4e83843efd5ca90d0d29"
            }
          },
          "metadata": {}
        },
        {
          "output_type": "display_data",
          "data": {
            "text/plain": [
              "IntText(value=3, description='maxL:')"
            ],
            "application/vnd.jupyter.widget-view+json": {
              "version_major": 2,
              "version_minor": 0,
              "model_id": "1fedf879388b4360ae934169e9851f37"
            }
          },
          "metadata": {}
        },
        {
          "output_type": "display_data",
          "data": {
            "text/plain": [
              "IntText(value=7, description='maxH:')"
            ],
            "application/vnd.jupyter.widget-view+json": {
              "version_major": 2,
              "version_minor": 0,
              "model_id": "b421629f4b874c9b8e36cb66d67e2bfe"
            }
          },
          "metadata": {}
        },
        {
          "output_type": "display_data",
          "data": {
            "text/plain": [
              "Text(value='1,2,0', description='modSeq:')"
            ],
            "application/vnd.jupyter.widget-view+json": {
              "version_major": 2,
              "version_minor": 0,
              "model_id": "cab4d5fbed7c4de2a890750d257ef434"
            }
          },
          "metadata": {}
        },
        {
          "output_type": "display_data",
          "data": {
            "text/plain": [
              "Button(description='Run createSequences()', style=ButtonStyle())"
            ],
            "application/vnd.jupyter.widget-view+json": {
              "version_major": 2,
              "version_minor": 0,
              "model_id": "776278c7ae42445a94b85a6c76507341"
            }
          },
          "metadata": {}
        },
        {
          "output_type": "display_data",
          "data": {
            "text/plain": [
              "Button(description='Run listExpansions()', style=ButtonStyle())"
            ],
            "application/vnd.jupyter.widget-view+json": {
              "version_major": 2,
              "version_minor": 0,
              "model_id": "57bea1e6407445df9bcb1aa2c68918fa"
            }
          },
          "metadata": {}
        },
        {
          "output_type": "display_data",
          "data": {
            "text/plain": [
              "Output()"
            ],
            "application/vnd.jupyter.widget-view+json": {
              "version_major": 2,
              "version_minor": 0,
              "model_id": "5218cbb60c794508b165fb7661068df9"
            }
          },
          "metadata": {}
        }
      ]
    }
  ]
}
